{
 "cells": [
  {
   "cell_type": "markdown",
   "metadata": {},
   "source": [
    "### Introduction\n",
    "This is an example on how to filter tweets from a stream using a pre-trained classifier. This assumes that we have a saved classifier. Please refer to the classify-tweets-example notebook to learn how to train a text classifier. \n",
    "\n",
    "### Load classifier and connect to database\n",
    "Let us start by loading the classifier. Here the classifier ('tweet_clf_nb') is stored in the subfolder 'data'."
   ]
  },
  {
   "cell_type": "code",
   "execution_count": 6,
   "metadata": {
    "collapsed": false
   },
   "outputs": [],
   "source": [
    "from src.message_classifier import MessageClassifier\n",
    "\n",
    "mc = MessageClassifier()\n",
    "mc.load('data/tweet_clf_nb')"
   ]
  },
  {
   "cell_type": "markdown",
   "metadata": {},
   "source": [
    "Now let's create a database to store the filtered tweets and connect to it. "
   ]
  },
  {
   "cell_type": "code",
   "execution_count": null,
   "metadata": {
    "collapsed": true
   },
   "outputs": [],
   "source": [
    "from sqlalchemy import create_engine\n",
    "from sqlalchemy.orm import sessionmaker \n",
    "from sqlalchemy.sql import exists\n",
    "from src.db_tables import Base, User, Connection, Message, Location, create_sqlite_db\n",
    "\n",
    "db_path = 'sqlite:///data/twitter_stream.db'\n",
    "create_sqlite_db(db_path)\n",
    "engine = create_engine(db_path)\n",
    "Base.metadata.bind = engine \n",
    "DBSession = sessionmaker(bind=engine)\n",
    "session = DBSession()"
   ]
  }
 ],
 "metadata": {
  "kernelspec": {
   "display_name": "Python 2",
   "language": "python",
   "name": "python2"
  },
  "language_info": {
   "codemirror_mode": {
    "name": "ipython",
    "version": 2
   },
   "file_extension": ".py",
   "mimetype": "text/x-python",
   "name": "python",
   "nbconvert_exporter": "python",
   "pygments_lexer": "ipython2",
   "version": "2.7.10"
  }
 },
 "nbformat": 4,
 "nbformat_minor": 0
}
