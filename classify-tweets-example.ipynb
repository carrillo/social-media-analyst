{
 "cells": [
  {
   "cell_type": "markdown",
   "metadata": {},
   "source": [
    "### Goal\n",
    "\n",
    "We have collected a number of tweets and dumped them in a database. If not, check out the \"gather-twitter-info-example\" notebook. We want to get an idea what people in the network are talking about, but we don't want to go through the tweets manually. Let's use the magic of machine learning instead: We learn a very simple text classifier on example texts and classify the tweets into these categories. \n",
    "\n",
    "### Train and profile classifier\n",
    "\n",
    "Let's train the text classifier on ~18000 newsgroup posts on 20 different topics (http://scikit-learn.org/stable/datasets/twenty_newsgroups.html). This data can be easily loaded from the scikit-learn library.  \n",
    "\n",
    "#### Load data"
   ]
  },
  {
   "cell_type": "code",
   "execution_count": 12,
   "metadata": {
    "collapsed": false
   },
   "outputs": [
    {
     "name": "stdout",
     "output_type": "stream",
     "text": [
      "The autoreload extension is already loaded. To reload it, use:\n",
      "  %reload_ext autoreload\n"
     ]
    }
   ],
   "source": [
    "%load_ext autoreload\n",
    "%autoreload 2\n",
    "from sklearn.datasets import fetch_20newsgroups\n",
    " \n",
    "twenty_train = fetch_20newsgroups(subset='train', shuffle=True, random_state=32)\n",
    "twenty_test = fetch_20newsgroups(subset='test', shuffle=True, random_state=32)"
   ]
  },
  {
   "cell_type": "markdown",
   "metadata": {},
   "source": [
    "#### Train classifier\n",
    "\n",
    "In the best case scenario this text classifier should be able to classify tweets from the pre-filtered twitter stream directly. So speed does matter. Therefore let's use a simple linear classifier: A multinomial naive bayesian classifier (http://scikit-learn.org/stable/modules/naive_bayes.html). To be able to classify text we first want to create a sparse vector representation of the documents (http://scikit-learn.org/stable/modules/generated/sklearn.feature_extraction.text.CountVectorizer.html) and tf-idf transform (https://en.wikipedia.org/wiki/Tf%E2%80%93idf) to take relative term frequency (tf) and inverse document frequency (idf) into account (http://scikit-learn.org/stable/modules/generated/sklearn.feature_extraction.text.TfidfTransformer.html). \n",
    "\n",
    "We combine the CountVectorizer, TfidfTransformer and Classifier into a scikit-learn pipeline and identify the optimal set of meta parameters using 5-fold cross validation combined with a grid search. The parameters we are optimizing for are i) n-gram length for feature extraction (1 word or 1 and 2 words) and ii) the additive smoothing term for the naive bayes classifier. \n",
    "\n",
    "Let's train the classifier and save it for further use. "
   ]
  },
  {
   "cell_type": "code",
   "execution_count": 20,
   "metadata": {
    "collapsed": false
   },
   "outputs": [
    {
     "name": "stdout",
     "output_type": "stream",
     "text": [
      "Fitting 5 folds for each of 10 candidates, totalling 50 fits\n"
     ]
    },
    {
     "name": "stderr",
     "output_type": "stream",
     "text": [
      "[Parallel(n_jobs=-1)]: Done  42 tasks      | elapsed:  4.5min\n",
      "[Parallel(n_jobs=-1)]: Done  50 out of  50 | elapsed:  5.6min finished\n"
     ]
    },
    {
     "name": "stdout",
     "output_type": "stream",
     "text": [
      "Best score 0.917093866007 of estimator Pipeline(steps=[('vect', CountVectorizer(analyzer=u'word', binary=False, decode_error=u'strict',\n",
      "        dtype=<type 'numpy.int64'>, encoding=u'utf-8', input=u'content',\n",
      "        lowercase=True, max_df=1.0, max_features=None, min_df=1,\n",
      "        ngram_range=(1, 2), preprocessor=None, stop_words=None,\n",
      "        st...alse,\n",
      "         use_idf=True)), ('nb', MultinomialNB(alpha=0.001, class_prior=None, fit_prior=True))])\n"
     ]
    }
   ],
   "source": [
    "from src.message_classifier import MessageClassifier\n",
    "from sklearn.pipeline import Pipeline\n",
    "from sklearn.feature_extraction.text import CountVectorizer, TfidfTransformer\n",
    "from sklearn.naive_bayes import MultinomialNB\n",
    "\n",
    "tc = MessageClassifier()\n",
    "\n",
    "# Define the pipeline and meta-parameters to optimize the model via Cross-validiation \n",
    "pipeline=Pipeline([('vect', CountVectorizer()), ('tfidf', TfidfTransformer()), ('nb', MultinomialNB())])\n",
    "param_grid={'vect__ngram_range': [(1, 1),(1, 2)], 'nb__alpha': [10**-5,10**-4,10**-3,10**-2,10**-1]}\n",
    "\n",
    "# Perform the parameter sweep, retain the optimal model and save it \n",
    "tc.train(train_X=twenty_train.data, train_y=twenty_train.target, labels=twenty_train.target_names, pipeline=pipeline, param_grid=param_grid)\n",
    "tc.dump('data/tweet_clf_nb')"
   ]
  },
  {
   "cell_type": "markdown",
   "metadata": {},
   "source": [
    "#### Profile classifier. \n",
    "\n",
    "The cross validation reports an f1-score (weighted average of precision and recall) averaged over all classes of 0.92 for the optimal parameters (1 and 2 grams / alpha = 10^-3). Let us see how the classifier performs on the hold-out data set. "
   ]
  },
  {
   "cell_type": "code",
   "execution_count": 21,
   "metadata": {
    "collapsed": false
   },
   "outputs": [
    {
     "name": "stdout",
     "output_type": "stream",
     "text": [
      "                          precision    recall  f1-score   support\n",
      "\n",
      "             alt.atheism       0.82      0.82      0.82       319\n",
      "           comp.graphics       0.69      0.74      0.71       389\n",
      " comp.os.ms-windows.misc       0.73      0.62      0.67       394\n",
      "comp.sys.ibm.pc.hardware       0.64      0.76      0.69       392\n",
      "   comp.sys.mac.hardware       0.82      0.82      0.82       385\n",
      "          comp.windows.x       0.83      0.79      0.81       395\n",
      "            misc.forsale       0.86      0.83      0.84       390\n",
      "               rec.autos       0.88      0.89      0.89       396\n",
      "         rec.motorcycles       0.95      0.94      0.95       398\n",
      "      rec.sport.baseball       0.96      0.92      0.94       397\n",
      "        rec.sport.hockey       0.95      0.97      0.96       399\n",
      "               sci.crypt       0.86      0.92      0.89       396\n",
      "         sci.electronics       0.79      0.74      0.77       393\n",
      "                 sci.med       0.88      0.83      0.85       396\n",
      "               sci.space       0.89      0.89      0.89       394\n",
      "  soc.religion.christian       0.85      0.95      0.90       398\n",
      "      talk.politics.guns       0.81      0.91      0.86       364\n",
      "   talk.politics.mideast       0.97      0.93      0.95       376\n",
      "      talk.politics.misc       0.78      0.70      0.74       310\n",
      "      talk.religion.misc       0.75      0.65      0.70       251\n",
      "\n",
      "             avg / total       0.84      0.84      0.84      7532\n",
      "\n"
     ]
    }
   ],
   "source": [
    "tc.test(valid_X=twenty_test.data, valid_y=twenty_test.target) # Test performace on hold-out set"
   ]
  },
  {
   "cell_type": "markdown",
   "metadata": {},
   "source": [
    "#### Profiling summary \n",
    "We trained a multinomial naive bayes classifier, which gives us reasonable classification performance (average f1 = 0.84). Importantly, we expect this classifier to be fast and will hopefully allow us to classify tweets on the fly. \n",
    "\n",
    "### Classify tweets\n",
    "Now that we trained a classifier, we can classify the tweets we collected and stored in our database. First let us connect to the database (if you do not set up a database, please follow the notebook: 'gather-twitter-info-example') and retrieve all the messages. If you have a lot, you may want to classify in batches.  "
   ]
  },
  {
   "cell_type": "code",
   "execution_count": 25,
   "metadata": {
    "collapsed": false
   },
   "outputs": [],
   "source": [
    "from sqlalchemy import create_engine\n",
    "from sqlalchemy.orm import sessionmaker\n",
    "from sqlalchemy.sql import exists\n",
    "from src.db_tables import Base, Message, create_sqlite_db\n",
    "\n",
    "# Connect to database \n",
    "engine = create_engine('sqlite:///data/testuser.db')\n",
    "Base.metadata.bind = engine \n",
    "DBSession = sessionmaker(bind=engine)\n",
    "session = DBSession()\n",
    "\n",
    "# Retrieve all messages\n",
    "messages = [getattr(x, \"text\").encode('utf-8') for x in session.query(Message).all()]"
   ]
  },
  {
   "cell_type": "markdown",
   "metadata": {},
   "source": [
    "Now can simply classify and get the class probability for each message. "
   ]
  },
  {
   "cell_type": "code",
   "execution_count": 26,
   "metadata": {
    "collapsed": true
   },
   "outputs": [],
   "source": [
    "probabilities = tc.predict_proba(messages)"
   ]
  },
  {
   "cell_type": "markdown",
   "metadata": {},
   "source": [
    "#### Interpretation of the predictions. \n",
    "\n",
    "Let us look at the prediction. For starters let us see how often each class was assigned and how confident the classifier was in the prediction. "
   ]
  },
  {
   "cell_type": "code",
   "execution_count": 59,
   "metadata": {
    "collapsed": false
   },
   "outputs": [
    {
     "name": "stdout",
     "output_type": "stream",
     "text": [
      "class                                              sci.crypt\n",
      "message    Statistics for Hackers by @jakevdp. Nico intro...\n",
      "prob                                               0.5049103\n",
      "Name: 3, dtype: object\n"
     ]
    },
    {
     "data": {
      "image/png": "[encoded data removed]",
      "text/plain": [
       "<matplotlib.figure.Figure at 0x144679850>"
      ]
     },
     "metadata": {},
     "output_type": "display_data"
    },
    {
     "data": {
      "image/png": "[encoded data removed]",
      "text/plain": [
       "<matplotlib.figure.Figure at 0x144679150>"
      ]
     },
     "metadata": {},
     "output_type": "display_data"
    }
   ],
   "source": [
    "import scipy as sp \n",
    "import pandas as pd\n",
    "pd.set_option('display.mpl_style', 'default') # Make the graphs a bit prettier\n",
    "from matplotlib import pyplot as plt\n",
    "%matplotlib inline\n",
    "\n",
    "# Summary statistics of tweet classification \n",
    "row_list = [] \n",
    "for message, probs in zip(messages, probabilities): \n",
    "    row_list.append({'class':tc.labels[np.argmax(probs)], 'prob':np.max(probs), 'message':message})\n",
    "df = pd.DataFrame(row_list)\n",
    "\n",
    "# Let's check out one example. \n",
    "print(df.iloc[3])\n",
    "\n",
    "# Plot frequency of class\n",
    "df['class'].value_counts().plot(kind='bar');\n",
    "\n",
    "# Plot how probabilities are distributed \n",
    "df.hist(); "
   ]
  },
  {
   "cell_type": "markdown",
   "metadata": {},
   "source": [
    "The example shows a reasonable classification. Some tweets containing statistics and hacker would fit into a crypto newsgroup. The classifier assigns this class a probability of 0.5 for this tweet. \n",
    "\n",
    "The three most assigned classes were all from science newsgroups (sci.). This makes sense, knowing that the twitter user we used as the root node of the network analysis mainly tweets about scientific topics. The average prediction probability was 0.45. This is actually quite high considering that the probabilities are distributed over 20 classes for each fit.  \n",
    "\n",
    "### Summary \n",
    "\n",
    "Having collected a number of tweets and stored it in the database, allows easy access to analysis tools. Here we train a tweet classifier, allowing us to go through a large number of tweets and filter out tweets on topics of interest. "
   ]
  },
  {
   "cell_type": "code",
   "execution_count": null,
   "metadata": {
    "collapsed": true
   },
   "outputs": [],
   "source": []
  }
 ],
 "metadata": {
  "kernelspec": {
   "display_name": "Python 2",
   "language": "python",
   "name": "python2"
  },
  "language_info": {
   "codemirror_mode": {
    "name": "ipython",
    "version": 2
   },
   "file_extension": ".py",
   "mimetype": "text/x-python",
   "name": "python",
   "nbconvert_exporter": "python",
   "pygments_lexer": "ipython2",
   "version": "2.7.10"
  }
 },
 "nbformat": 4,
 "nbformat_minor": 0
}
