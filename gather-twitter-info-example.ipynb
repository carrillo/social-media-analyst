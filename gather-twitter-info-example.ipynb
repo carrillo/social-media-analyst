{
 "cells": [
  {
   "cell_type": "markdown",
   "metadata": {},
   "source": [
    "This is an example to gather information on a twitter user, store the data in a database and use it to perform analysis. Analyses include classification of messages and network analysis. \n",
    "\n",
    "To start, let's define a twitter user whose network we want to explore. For test reasons let's use my twitter account 'fcarrillo81'. "
   ]
  },
  {
   "cell_type": "code",
   "execution_count": 1,
   "metadata": {
    "collapsed": true
   },
   "outputs": [],
   "source": [
    "source_node_name = 'fcarrillo81'"
   ]
  },
  {
   "cell_type": "markdown",
   "metadata": {},
   "source": [
    "Let's set-up the database storing the information and connect to it. The database is defined in src.db_tables.py and will be filled during the information gathering phase and cotain tables for i) USER, ii) MESSAGE, iii) LOCATION and iv) CONNECTION. All information will be stored in data/'source_node_name'.db and can be accessed using sqlite. "
   ]
  },
  {
   "cell_type": "code",
   "execution_count": 7,
   "metadata": {
    "collapsed": false
   },
   "outputs": [],
   "source": [
    "from src.db_tables import Base, User, Connection, Message, Location, create_sqlite_db\n",
    "from sqlalchemy import create_engine\n",
    "from sqlalchemy.orm import sessionmaker\n",
    "\n",
    "# Create the database.\n",
    "create_sqlite_db(source_node_name)\n",
    "# Set-up a connection. \n",
    "engine = create_engine('sqlite:///data/' + source_node_name + '.db')\n",
    "Base.metadata.bind = engine \n",
    "DBSession = sessionmaker(bind=engine)\n",
    "session = DBSession()"
   ]
  },
  {
   "cell_type": "markdown",
   "metadata": {},
   "source": [
    "Now let's set-up the twitter connection. To this end you have to "
   ]
  }
 ],
 "metadata": {
  "kernelspec": {
   "display_name": "Python 2",
   "language": "python",
   "name": "python2"
  },
  "language_info": {
   "codemirror_mode": {
    "name": "ipython",
    "version": 2
   },
   "file_extension": ".py",
   "mimetype": "text/x-python",
   "name": "python",
   "nbconvert_exporter": "python",
   "pygments_lexer": "ipython2",
   "version": "2.7.10"
  }
 },
 "nbformat": 4,
 "nbformat_minor": 0
}
