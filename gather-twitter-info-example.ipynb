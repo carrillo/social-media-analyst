{
 "cells": [
  {
   "cell_type": "markdown",
   "metadata": {},
   "source": [
    "### Introduction\n",
    "\n",
    "This is an example how to gather information on a twitter user and store the data in a database. This data is later used for analysis. The search is very simple: Start with the one user, get the last x tweets and store them. Extract and store the location information and find all twitter users mentioned in the tweets. Sort the users by how often they are mentioned and put the top x% in the database. Now start over with these users. The network grows very fast and we have to limit the search depth. In this example I collect 1000 tweets, keep the top 2% of twitter users and search to a depth of 3 (max 2 edges away from the source node). \n",
    "\n",
    "### Define central user\n",
    "To start, let's define a twitter user whose network we want to explore. Let's choose 'testuser', a non-exisiting one. Please substitute this string with your username of interest. "
   ]
  },
  {
   "cell_type": "code",
   "execution_count": 1,
   "metadata": {
    "collapsed": true
   },
   "outputs": [],
   "source": [
    "source_node_name = 'testuser'"
   ]
  },
  {
   "cell_type": "markdown",
   "metadata": {},
   "source": [
    "### Create and connect to database\n",
    "\n",
    "Let's set-up the database storing the information and connect to it. The database is defined in src/db_tables.py and will be filled during the information gathering phase and cotain tables for i) USER, ii) MESSAGE, iii) LOCATION and iv) CONNECTION. All information will be stored in data/'source_node_name'.db and can be accessed using sqlite. "
   ]
  },
  {
   "cell_type": "code",
   "execution_count": 2,
   "metadata": {
    "collapsed": false
   },
   "outputs": [],
   "source": [
    "from src.db_tables import Base, User, Connection, Message, Location, create_sqlite_db\n",
    "from sqlalchemy import create_engine\n",
    "from sqlalchemy.orm import sessionmaker\n",
    "\n",
    "# Create the database.\n",
    "db_path = 'sqlite:///data/' + source_node_name + '.db'\n",
    "create_sqlite_db(db_path)\n",
    "# Set-up a connection.\n",
    "engine = create_engine(db_path)\n",
    "Base.metadata.bind = engine \n",
    "DBSession = sessionmaker(bind=engine)\n",
    "session = DBSession()"
   ]
  },
  {
   "cell_type": "markdown",
   "metadata": {},
   "source": [
    "### Connect to twitter API\n",
    "\n",
    "Now let's set-up the twitter connection. To be able to connect to the twitter api, get up your twitter login credentials (explained for example here: https://goo.gl/SXIslG) and add them to src/twitter_auth.py. "
   ]
  },
  {
   "cell_type": "code",
   "execution_count": 6,
   "metadata": {
    "collapsed": false
   },
   "outputs": [],
   "source": [
    "from src.users import Twitter_user\n",
    "from src.twitter_auth import Twitter_auth\n",
    "\n",
    "user = Twitter_user(source_node_name, Twitter_auth().authenticate()) "
   ]
  },
  {
   "cell_type": "markdown",
   "metadata": {},
   "source": [
    "### Collect data\n",
    "\n",
    "Now you are ready to collect the information. Be careful to limit your search! The twitter API allows only limited queries per hour. "
   ]
  },
  {
   "cell_type": "code",
   "execution_count": 8,
   "metadata": {
    "collapsed": false
   },
   "outputs": [
    {
     "name": "stdout",
     "output_type": "stream",
     "text": [
      "Network search started.\n",
      "Iterating through 1 users at current depth 0\n",
      "Iterating through 20 users at current depth 1\n",
      "Iterating through 297 users at current depth 2\n",
      "Collected 58694 tweets from 4063 users in 1551.876793s\n"
     ]
    }
   ],
   "source": [
    "from src.network_search import Network_search\n",
    "\n",
    "message_count = 200          # Number of tweets to collect from each user visited (The twitter API limits this to 200). \n",
    "dump = False                 # Do you want to store the tweets for each user in a separate JSON file? \n",
    "fraction_connections = 0.1   # How many of the top users (weighted by how often mentioned) should be added to the database \n",
    "max_depth = 2                # Stop the search when the users are more than max_depth edges away.\n",
    "verbose = 1                  # Verbosity of search \n",
    "\n",
    "search = Network_search(user_object=user, db_session=session)\n",
    "search.run(message_count=message_count, dump=dump, fraction_connections=fraction_connections, max_depth=max_depth, verbose=verbose) "
   ]
  },
  {
   "cell_type": "markdown",
   "metadata": {},
   "source": [
    "### Summary data gathering\n",
    "\n",
    "With a few line of code we can easily ~50k tweets from 4k users around the user of interest. The information is stored in an sqlite database which can be either queried directly (sqlite3 testuser.db) or within python. \n",
    "\n",
    "### Summary statistics\n",
    "\n",
    "We can demonstrate this with some simple queries: Let's collect summary statistics for each user and plot the distribution over all users."
   ]
  },
  {
   "cell_type": "code",
   "execution_count": 55,
   "metadata": {
    "collapsed": false
   },
   "outputs": [
    {
     "data": {
      "text/plain": [
       "array([[<matplotlib.axes.AxesSubplot object at 0x10f41fc90>,\n",
       "        <matplotlib.axes.AxesSubplot object at 0x10f9d68d0>,\n",
       "        <matplotlib.axes.AxesSubplot object at 0x10fd39390>]], dtype=object)"
      ]
     },
     "execution_count": 55,
     "metadata": {},
     "output_type": "execute_result"
    },
    {
     "data": {
      "image/png": "[encoded data removed]",
      "text/plain": [
       "<matplotlib.figure.Figure at 0x10f9a87d0>"
      ]
     },
     "metadata": {},
     "output_type": "display_data"
    }
   ],
   "source": [
    "%matplotlib inline\n",
    "import pandas as pd \n",
    "pd.set_option('display.mpl_style', 'default') # Make the graphs a bit prettier\n",
    "\n",
    "rows_list = [] \n",
    "for user in session.query(User).all(): \n",
    "    message_count = len(session.query(Message).filter(Message.user_name == str(user.name)).all())\n",
    "    connection_out = len(session.query(Connection).filter(Connection.user_1_name == str(user.name)).all())\n",
    "    connection_in = len(session.query(Connection).filter(Connection.user_2_name == str(user.name)).all())\n",
    "    rows_list.append({'messages':message_count, 'connections_in':connection_in, 'connections_out':connection_out})\n",
    "df = pd.DataFrame(rows_list)\n",
    "df = df[['messages', 'connections_out', 'connections_in']]   # reorder columns\n",
    "df = df[df['messages'] != 0]                                 # Keep only users with messages\n",
    "pd.DataFrame.hist(df, figsize=[15, 4], layout=[1, 3]);       # Plot histogram"
   ]
  },
  {
   "cell_type": "markdown",
   "metadata": {},
   "source": [
    "We can clearly see that almost all users have at least 200 messages and that in these messages mention at least 20 other twitter users. The distribution of incoming connections is more interesting: The vast majority of users are mentioned very few, where a small fraction is mentioned often.\n",
    "\n",
    "### Network analysis\n",
    "\n",
    "Can we get a better understanding for the network architecture? To this end we can generate a graph from all the connections. Here the nodes represent user and the edges connections. Here I'm using networkx (https://networkx.github.io/) to do the analysis, but there a variety of graph analysis packages out there. So let's visualize the graph. "
   ]
  },
  {
   "cell_type": "code",
   "execution_count": null,
   "metadata": {
    "collapsed": false
   },
   "outputs": [],
   "source": [
    "%load_ext autoreload\n",
    "%autoreload 2\n",
    "from src.network_graph import NetworkGraph\n",
    "from matplotlib import pyplot as plt\n",
    "\n",
    "plt.figure(figsize=(12, 12))\n",
    "ng = NetworkGraph(session)              # Create a NetworkGraph object and connect it to the database \n",
    "ng.build()                              # Build the graph by reading all the connection and parse them as edges  \n",
    "ng.draw(node_size=2, edge_width=0.5);   # Draw a simple graph"
   ]
  },
  {
   "cell_type": "code",
   "execution_count": null,
   "metadata": {
    "collapsed": true
   },
   "outputs": [],
   "source": []
  }
 ],
 "metadata": {
  "kernelspec": {
   "display_name": "Python 2",
   "language": "python",
   "name": "python2"
  },
  "language_info": {
   "codemirror_mode": {
    "name": "ipython",
    "version": 2
   },
   "file_extension": ".py",
   "mimetype": "text/x-python",
   "name": "python",
   "nbconvert_exporter": "python",
   "pygments_lexer": "ipython2",
   "version": "2.7.10"
  }
 },
 "nbformat": 4,
 "nbformat_minor": 0
}
